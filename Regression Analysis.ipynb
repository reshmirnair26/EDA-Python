{
 "cells": [
  {
   "cell_type": "markdown",
   "id": "b33bf0df",
   "metadata": {},
   "source": [
    "## <center>Machine Learning - Linear Regression"
   ]
  },
  {
   "cell_type": "markdown",
   "id": "7db4ac13",
   "metadata": {},
   "source": [
    "### Simple Linear Regression"
   ]
  },
  {
   "cell_type": "markdown",
   "id": "07e0ad5a",
   "metadata": {},
   "source": [
    "##### Lets consider independent variable as Age of cars(x) and dependent variable (y) as their speed."
   ]
  },
  {
   "cell_type": "code",
   "execution_count": 1,
   "id": "67fa3728",
   "metadata": {},
   "outputs": [],
   "source": [
    "x = [5,7,8,7,2,17,2,9,4,11,12,9,6]\n",
    "y = [99,86,87,88,111,86,103,87,94,78,77,85,86]"
   ]
  },
  {
   "cell_type": "code",
   "execution_count": 2,
   "id": "d6816d67",
   "metadata": {},
   "outputs": [],
   "source": [
    "import seaborn as sns\n",
    "from scipy import stats\n",
    "import matplotlib.pyplot as plt\n",
    "import numpy as np"
   ]
  },
  {
   "cell_type": "code",
   "execution_count": 3,
   "id": "870a0f99",
   "metadata": {},
   "outputs": [],
   "source": [
    "slope,intercept,r,p,std_error = stats.linregress(x,y)"
   ]
  },
  {
   "cell_type": "code",
   "execution_count": 4,
   "id": "b077c363",
   "metadata": {},
   "outputs": [],
   "source": [
    "def myfunc(x):\n",
    "    return slope*x+intercept"
   ]
  },
  {
   "cell_type": "code",
   "execution_count": 5,
   "id": "126fdaeb",
   "metadata": {},
   "outputs": [
    {
     "data": {
      "text/plain": [
       "<map at 0x151d1981ac0>"
      ]
     },
     "execution_count": 5,
     "metadata": {},
     "output_type": "execute_result"
    }
   ],
   "source": [
    "map(myfunc,x)"
   ]
  },
  {
   "cell_type": "code",
   "execution_count": 6,
   "id": "2ffce41a",
   "metadata": {},
   "outputs": [
    {
     "data": {
      "text/plain": [
       "[94.3495217071376,\n",
       " 90.84694628403238,\n",
       " 89.09565857247976,\n",
       " 90.84694628403238,\n",
       " 99.60338484179543,\n",
       " 73.33406916850626,\n",
       " 99.60338484179543,\n",
       " 87.34437086092716,\n",
       " 96.10080941869022,\n",
       " 83.84179543782193,\n",
       " 82.09050772626932,\n",
       " 87.34437086092716,\n",
       " 92.59823399558499]"
      ]
     },
     "execution_count": 6,
     "metadata": {},
     "output_type": "execute_result"
    }
   ],
   "source": [
    "list(map(myfunc,x))"
   ]
  },
  {
   "cell_type": "code",
   "execution_count": 7,
   "id": "1c0c845e",
   "metadata": {},
   "outputs": [],
   "source": [
    "mymodel = list(map(myfunc,x))"
   ]
  },
  {
   "cell_type": "code",
   "execution_count": 8,
   "id": "f40c978c",
   "metadata": {},
   "outputs": [
    {
     "data": {
      "image/png": "[encoded data removed]",
      "text/plain": [
       "<Figure size 640x480 with 1 Axes>"
      ]
     },
     "metadata": {},
     "output_type": "display_data"
    }
   ],
   "source": [
    "plt.scatter(x,y)\n",
    "plt.plot(x,mymodel)\n",
    "plt.show()"
   ]
  },
  {
   "cell_type": "code",
   "execution_count": 9,
   "id": "dacc0da6",
   "metadata": {},
   "outputs": [
    {
     "data": {
      "text/plain": [
       "-0.758591524376155"
      ]
     },
     "execution_count": 9,
     "metadata": {},
     "output_type": "execute_result"
    }
   ],
   "source": [
    "r"
   ]
  },
  {
   "cell_type": "code",
   "execution_count": 10,
   "id": "b4bf2d49",
   "metadata": {},
   "outputs": [
    {
     "data": {
      "text/plain": [
       "0.453536157607742"
      ]
     },
     "execution_count": 10,
     "metadata": {},
     "output_type": "execute_result"
    }
   ],
   "source": [
    "std_error"
   ]
  },
  {
   "cell_type": "code",
   "execution_count": 11,
   "id": "c3baf0b0",
   "metadata": {},
   "outputs": [
    {
     "data": {
      "text/plain": [
       "0.0026468739224561064"
      ]
     },
     "execution_count": 11,
     "metadata": {},
     "output_type": "execute_result"
    }
   ],
   "source": [
    "p"
   ]
  },
  {
   "cell_type": "markdown",
   "id": "d77c3572",
   "metadata": {},
   "source": [
    "##### The p-value for a hypothesis test whose null hypothesis is that the slope is zero, using Wald Test with t- distribution of the test statistic. The smaller the p-value the greater the discrepancy. If p is between 0.1 and 0.9, there is certainly no reason to suspect the hypothesis tested, but if it is below 0.05, it strongly indicates that the hypothesis fails to account for the entire facts."
   ]
  },
  {
   "cell_type": "code",
   "execution_count": 12,
   "id": "9ec529ab",
   "metadata": {},
   "outputs": [],
   "source": [
    "speed = myfunc(10)"
   ]
  },
  {
   "cell_type": "code",
   "execution_count": 13,
   "id": "bc682d02",
   "metadata": {},
   "outputs": [
    {
     "data": {
      "text/plain": [
       "85.59308314937454"
      ]
     },
     "execution_count": 13,
     "metadata": {},
     "output_type": "execute_result"
    }
   ],
   "source": [
    "speed"
   ]
  },
  {
   "cell_type": "markdown",
   "id": "aa45b614",
   "metadata": {},
   "source": [
    "#### Example"
   ]
  },
  {
   "cell_type": "code",
   "execution_count": 14,
   "id": "db03e92f",
   "metadata": {},
   "outputs": [],
   "source": [
    "from pydataset import data"
   ]
  },
  {
   "cell_type": "code",
   "execution_count": 15,
   "id": "a1a1b2ce",
   "metadata": {},
   "outputs": [
    {
     "data": {
      "text/html": [
       "<div>\n",
       "<style scoped>\n",
       "    .dataframe tbody tr th:only-of-type {\n",
       "        vertical-align: middle;\n",
       "    }\n",
       "\n",
       "    .dataframe tbody tr th {\n",
       "        vertical-align: top;\n",
       "    }\n",
       "\n",
       "    .dataframe thead th {\n",
       "        text-align: right;\n",
       "    }\n",
       "</style>\n",
       "<table border=\"1\" class=\"dataframe\">\n",
       "  <thead>\n",
       "    <tr style=\"text-align: right;\">\n",
       "      <th></th>\n",
       "      <th>dataset_id</th>\n",
       "      <th>title</th>\n",
       "    </tr>\n",
       "  </thead>\n",
       "  <tbody>\n",
       "    <tr>\n",
       "      <th>0</th>\n",
       "      <td>AirPassengers</td>\n",
       "      <td>Monthly Airline Passenger Numbers 1949-1960</td>\n",
       "    </tr>\n",
       "    <tr>\n",
       "      <th>1</th>\n",
       "      <td>BJsales</td>\n",
       "      <td>Sales Data with Leading Indicator</td>\n",
       "    </tr>\n",
       "    <tr>\n",
       "      <th>2</th>\n",
       "      <td>BOD</td>\n",
       "      <td>Biochemical Oxygen Demand</td>\n",
       "    </tr>\n",
       "    <tr>\n",
       "      <th>3</th>\n",
       "      <td>Formaldehyde</td>\n",
       "      <td>Determination of Formaldehyde</td>\n",
       "    </tr>\n",
       "    <tr>\n",
       "      <th>4</th>\n",
       "      <td>HairEyeColor</td>\n",
       "      <td>Hair and Eye Color of Statistics Students</td>\n",
       "    </tr>\n",
       "    <tr>\n",
       "      <th>...</th>\n",
       "      <td>...</td>\n",
       "      <td>...</td>\n",
       "    </tr>\n",
       "    <tr>\n",
       "      <th>752</th>\n",
       "      <td>VerbAgg</td>\n",
       "      <td>Verbal Aggression item responses</td>\n",
       "    </tr>\n",
       "    <tr>\n",
       "      <th>753</th>\n",
       "      <td>cake</td>\n",
       "      <td>Breakage Angle of Chocolate Cakes</td>\n",
       "    </tr>\n",
       "    <tr>\n",
       "      <th>754</th>\n",
       "      <td>cbpp</td>\n",
       "      <td>Contagious bovine pleuropneumonia</td>\n",
       "    </tr>\n",
       "    <tr>\n",
       "      <th>755</th>\n",
       "      <td>grouseticks</td>\n",
       "      <td>Data on red grouse ticks from Elston et al. 2001</td>\n",
       "    </tr>\n",
       "    <tr>\n",
       "      <th>756</th>\n",
       "      <td>sleepstudy</td>\n",
       "      <td>Reaction times in a sleep deprivation study</td>\n",
       "    </tr>\n",
       "  </tbody>\n",
       "</table>\n",
       "<p>757 rows × 2 columns</p>\n",
       "</div>"
      ],
      "text/plain": [
       "        dataset_id                                             title\n",
       "0    AirPassengers       Monthly Airline Passenger Numbers 1949-1960\n",
       "1          BJsales                 Sales Data with Leading Indicator\n",
       "2              BOD                         Biochemical Oxygen Demand\n",
       "3     Formaldehyde                     Determination of Formaldehyde\n",
       "4     HairEyeColor         Hair and Eye Color of Statistics Students\n",
       "..             ...                                               ...\n",
       "752        VerbAgg                  Verbal Aggression item responses\n",
       "753           cake                 Breakage Angle of Chocolate Cakes\n",
       "754           cbpp                 Contagious bovine pleuropneumonia\n",
       "755    grouseticks  Data on red grouse ticks from Elston et al. 2001\n",
       "756     sleepstudy       Reaction times in a sleep deprivation study\n",
       "\n",
       "[757 rows x 2 columns]"
      ]
     },
     "execution_count": 15,
     "metadata": {},
     "output_type": "execute_result"
    }
   ],
   "source": [
    "data()"
   ]
  },
  {
   "cell_type": "markdown",
   "id": "1afc8100",
   "metadata": {},
   "source": [
    "#### Lets load BJsales dataset"
   ]
  },
  {
   "cell_type": "code",
   "execution_count": 16,
   "id": "b57f39f9",
   "metadata": {},
   "outputs": [],
   "source": [
    "data1 = data('BJsales')"
   ]
  },
  {
   "cell_type": "code",
   "execution_count": 17,
   "id": "7422fbbb",
   "metadata": {},
   "outputs": [
    {
     "data": {
      "text/html": [
       "<div>\n",
       "<style scoped>\n",
       "    .dataframe tbody tr th:only-of-type {\n",
       "        vertical-align: middle;\n",
       "    }\n",
       "\n",
       "    .dataframe tbody tr th {\n",
       "        vertical-align: top;\n",
       "    }\n",
       "\n",
       "    .dataframe thead th {\n",
       "        text-align: right;\n",
       "    }\n",
       "</style>\n",
       "<table border=\"1\" class=\"dataframe\">\n",
       "  <thead>\n",
       "    <tr style=\"text-align: right;\">\n",
       "      <th></th>\n",
       "      <th>time</th>\n",
       "      <th>BJsales</th>\n",
       "    </tr>\n",
       "  </thead>\n",
       "  <tbody>\n",
       "    <tr>\n",
       "      <th>1</th>\n",
       "      <td>1</td>\n",
       "      <td>200.1</td>\n",
       "    </tr>\n",
       "    <tr>\n",
       "      <th>2</th>\n",
       "      <td>2</td>\n",
       "      <td>199.5</td>\n",
       "    </tr>\n",
       "    <tr>\n",
       "      <th>3</th>\n",
       "      <td>3</td>\n",
       "      <td>199.4</td>\n",
       "    </tr>\n",
       "    <tr>\n",
       "      <th>4</th>\n",
       "      <td>4</td>\n",
       "      <td>198.9</td>\n",
       "    </tr>\n",
       "    <tr>\n",
       "      <th>5</th>\n",
       "      <td>5</td>\n",
       "      <td>199.0</td>\n",
       "    </tr>\n",
       "  </tbody>\n",
       "</table>\n",
       "</div>"
      ],
      "text/plain": [
       "   time  BJsales\n",
       "1     1    200.1\n",
       "2     2    199.5\n",
       "3     3    199.4\n",
       "4     4    198.9\n",
       "5     5    199.0"
      ]
     },
     "execution_count": 17,
     "metadata": {},
     "output_type": "execute_result"
    }
   ],
   "source": [
    "data1.head()"
   ]
  },
  {
   "cell_type": "code",
   "execution_count": 18,
   "id": "a240b2c1",
   "metadata": {},
   "outputs": [],
   "source": [
    "x = data1['time'].values"
   ]
  },
  {
   "cell_type": "code",
   "execution_count": 19,
   "id": "7664f41c",
   "metadata": {},
   "outputs": [],
   "source": [
    "y = data1['BJsales'].values"
   ]
  },
  {
   "cell_type": "markdown",
   "id": "96e80c4f",
   "metadata": {},
   "source": [
    "#### Task: Do Simple Linear Regression"
   ]
  },
  {
   "cell_type": "code",
   "execution_count": 20,
   "id": "e74dadc0",
   "metadata": {},
   "outputs": [],
   "source": [
    "slope, intercept, r, p, std_error = stats.linregress(x,y)"
   ]
  },
  {
   "cell_type": "code",
   "execution_count": 21,
   "id": "0bea7ebe",
   "metadata": {},
   "outputs": [],
   "source": [
    "def my_func(x):\n",
    "    return slope*x+intercept"
   ]
  },
  {
   "cell_type": "code",
   "execution_count": 22,
   "id": "b0915035",
   "metadata": {},
   "outputs": [
    {
     "data": {
      "text/plain": [
       "[196.67888741721853,\n",
       " 197.12585537134984,\n",
       " 197.57282332548112,\n",
       " 198.01979127961243,\n",
       " 198.46675923374372,\n",
       " 198.91372718787503,\n",
       " 199.3606951420063,\n",
       " 199.80766309613762,\n",
       " 200.2546310502689,\n",
       " 200.7015990044002,\n",
       " 201.1485669585315,\n",
       " 201.5955349126628,\n",
       " 202.04250286679408,\n",
       " 202.48947082092536,\n",
       " 202.93643877505667,\n",
       " 203.38340672918795,\n",
       " 203.83037468331926,\n",
       " 204.27734263745054,\n",
       " 204.72431059158185,\n",
       " 205.17127854571314,\n",
       " 205.61824649984445,\n",
       " 206.06521445397573,\n",
       " 206.51218240810704,\n",
       " 206.95915036223832,\n",
       " 207.40611831636963,\n",
       " 207.8530862705009,\n",
       " 208.30005422463222,\n",
       " 208.7470221787635,\n",
       " 209.19399013289478,\n",
       " 209.6409580870261,\n",
       " 210.08792604115737,\n",
       " 210.53489399528868,\n",
       " 210.98186194941997,\n",
       " 211.42882990355128,\n",
       " 211.87579785768256,\n",
       " 212.32276581181387,\n",
       " 212.76973376594515,\n",
       " 213.21670172007646,\n",
       " 213.66366967420774,\n",
       " 214.11063762833905,\n",
       " 214.55760558247033,\n",
       " 215.00457353660164,\n",
       " 215.45154149073292,\n",
       " 215.8985094448642,\n",
       " 216.3454773989955,\n",
       " 216.7924453531268,\n",
       " 217.2394133072581,\n",
       " 217.68638126138939,\n",
       " 218.1333492155207,\n",
       " 218.58031716965198,\n",
       " 219.0272851237833,\n",
       " 219.47425307791457,\n",
       " 219.92122103204588,\n",
       " 220.36818898617716,\n",
       " 220.81515694030847,\n",
       " 221.26212489443975,\n",
       " 221.70909284857106,\n",
       " 222.15606080270234,\n",
       " 222.60302875683362,\n",
       " 223.04999671096493,\n",
       " 223.49696466509621,\n",
       " 223.94393261922752,\n",
       " 224.3909005733588,\n",
       " 224.83786852749012,\n",
       " 225.2848364816214,\n",
       " 225.7318044357527,\n",
       " 226.178772389884,\n",
       " 226.6257403440153,\n",
       " 227.07270829814658,\n",
       " 227.51967625227786,\n",
       " 227.96664420640917,\n",
       " 228.41361216054048,\n",
       " 228.86058011467176,\n",
       " 229.30754806880304,\n",
       " 229.75451602293435,\n",
       " 230.20148397706564,\n",
       " 230.64845193119694,\n",
       " 231.09541988532823,\n",
       " 231.54238783945954,\n",
       " 231.98935579359082,\n",
       " 232.43632374772213,\n",
       " 232.8832917018534,\n",
       " 233.33025965598472,\n",
       " 233.777227610116,\n",
       " 234.22419556424728,\n",
       " 234.6711635183786,\n",
       " 235.1181314725099,\n",
       " 235.56509942664118,\n",
       " 236.01206738077246,\n",
       " 236.45903533490377,\n",
       " 236.90600328903506,\n",
       " 237.35297124316637,\n",
       " 237.79993919729765,\n",
       " 238.24690715142896,\n",
       " 238.69387510556024,\n",
       " 239.14084305969152,\n",
       " 239.58781101382283,\n",
       " 240.03477896795414,\n",
       " 240.48174692208542,\n",
       " 240.9287148762167,\n",
       " 241.375682830348,\n",
       " 241.82265078447932,\n",
       " 242.2696187386106,\n",
       " 242.71658669274188,\n",
       " 243.1635546468732,\n",
       " 243.61052260100448,\n",
       " 244.0574905551358,\n",
       " 244.50445850926707,\n",
       " 244.95142646339838,\n",
       " 245.39839441752966,\n",
       " 245.84536237166094,\n",
       " 246.29233032579225,\n",
       " 246.73929827992356,\n",
       " 247.18626623405484,\n",
       " 247.63323418818612,\n",
       " 248.08020214231743,\n",
       " 248.52717009644874,\n",
       " 248.97413805058002,\n",
       " 249.4211060047113,\n",
       " 249.86807395884261,\n",
       " 250.3150419129739,\n",
       " 250.7620098671052,\n",
       " 251.2089778212365,\n",
       " 251.6559457753678,\n",
       " 252.10291372949908,\n",
       " 252.54988168363036,\n",
       " 252.99684963776167,\n",
       " 253.44381759189298,\n",
       " 253.89078554602426,\n",
       " 254.33775350015554,\n",
       " 254.78472145428685,\n",
       " 255.23168940841813,\n",
       " 255.67865736254944,\n",
       " 256.1256253166807,\n",
       " 256.57259327081204,\n",
       " 257.01956122494335,\n",
       " 257.4665291790746,\n",
       " 257.9134971332059,\n",
       " 258.3604650873372,\n",
       " 258.80743304146847,\n",
       " 259.2544009955998,\n",
       " 259.7013689497311,\n",
       " 260.1483369038624,\n",
       " 260.5953048579937,\n",
       " 261.04227281212496,\n",
       " 261.4892407662563,\n",
       " 261.9362087203876,\n",
       " 262.38317667451884,\n",
       " 262.83014462865015,\n",
       " 263.27711258278146]"
      ]
     },
     "execution_count": 22,
     "metadata": {},
     "output_type": "execute_result"
    }
   ],
   "source": [
    "list(map(my_func,x))"
   ]
  },
  {
   "cell_type": "code",
   "execution_count": 23,
   "id": "32380e36",
   "metadata": {},
   "outputs": [],
   "source": [
    "my_model = list(map(my_func,x))"
   ]
  },
  {
   "cell_type": "code",
   "execution_count": 24,
   "id": "25a80f14",
   "metadata": {
    "scrolled": true
   },
   "outputs": [
    {
     "data": {
      "image/png": "[encoded data removed]",
      "text/plain": [
       "<Figure size 640x480 with 1 Axes>"
      ]
     },
     "metadata": {},
     "output_type": "display_data"
    }
   ],
   "source": [
    "plt.scatter(x,y)\n",
    "plt.plot(x, my_model)\n",
    "plt.show()"
   ]
  },
  {
   "cell_type": "code",
   "execution_count": 25,
   "id": "a52de47f",
   "metadata": {},
   "outputs": [
    {
     "data": {
      "text/plain": [
       "0.9040489498420919"
      ]
     },
     "execution_count": 25,
     "metadata": {},
     "output_type": "execute_result"
    }
   ],
   "source": [
    "r"
   ]
  },
  {
   "cell_type": "code",
   "execution_count": 26,
   "id": "93895aa0",
   "metadata": {},
   "outputs": [
    {
     "data": {
      "text/plain": [
       "1.6869378659450514e-56"
      ]
     },
     "execution_count": 26,
     "metadata": {},
     "output_type": "execute_result"
    }
   ],
   "source": [
    "p"
   ]
  },
  {
   "cell_type": "code",
   "execution_count": 27,
   "id": "b078d43f",
   "metadata": {},
   "outputs": [
    {
     "data": {
      "text/plain": [
       "0.017370707365110552"
      ]
     },
     "execution_count": 27,
     "metadata": {},
     "output_type": "execute_result"
    }
   ],
   "source": [
    "std_error"
   ]
  },
  {
   "cell_type": "markdown",
   "id": "38f57b6c",
   "metadata": {},
   "source": [
    "\n",
    "\n",
    "### Machine Learning - Polynomial Regression\n",
    "\n",
    "#### Polynomial Regression\n",
    "If your data points clearly will not fit a linear regression (a straight line through all data points), it might be\n",
    "ideal for polynomial regression. Polynomial regression, like linear regression, uses the relationship between\n",
    "the variables x and y to find the best way to draw a line through the data points.\n",
    "\n",
    "#### How Does it Work?\n",
    "Python has methods for finding a relationship between data-points and to draw a line of polynomial\n",
    "regression. We will show you how to use these methods instead of going through the mathematic formula. In\n",
    "the example below, we have registered 18 cars as they were passing a certain tollbooth. We have registered\n",
    "the car's speed, and the time of day (hour) the passing occurred. The x-axis represents the hours of the day\n",
    "and the y-axis represents the speed:"
   ]
  },
  {
   "cell_type": "code",
   "execution_count": 28,
   "id": "c9df9bc7",
   "metadata": {},
   "outputs": [],
   "source": [
    "x = [1 ,2 ,3 ,5 ,6 ,7 ,8 ,9 ,10 ,12 ,13 ,14 ,15 ,16 ,18 ,19 ,21 ,22 ]\n",
    "y = [100 ,90 ,80 ,60 ,60 ,55 ,60 ,65 ,70 ,70 ,75 ,76 ,78 ,79 ,90 ,99 ,99 ,100 ]"
   ]
  },
  {
   "cell_type": "code",
   "execution_count": 29,
   "id": "869af6fd",
   "metadata": {},
   "outputs": [
    {
     "data": {
      "image/png": "[encoded data removed]",
      "text/plain": [
       "<Figure size 640x480 with 1 Axes>"
      ]
     },
     "metadata": {},
     "output_type": "display_data"
    }
   ],
   "source": [
    "plt.scatter(x,y)\n",
    "plt.title('Data Points')\n",
    "plt.show()"
   ]
  },
  {
   "cell_type": "markdown",
   "id": "cc0a4ad1",
   "metadata": {},
   "source": [
    "##### NumPy has a method that lets us make a polynomial model:"
   ]
  },
  {
   "cell_type": "code",
   "execution_count": 36,
   "id": "412cad9a",
   "metadata": {},
   "outputs": [],
   "source": [
    "mymodel = np.poly1d(np.polyfit(x,y,3))"
   ]
  },
  {
   "cell_type": "markdown",
   "id": "fd3620bc",
   "metadata": {},
   "source": [
    "#### specify how the line will display, we start at position 1, and end at position 22:"
   ]
  },
  {
   "cell_type": "code",
   "execution_count": 37,
   "id": "166194b4",
   "metadata": {},
   "outputs": [],
   "source": [
    "myline = np.linspace(1,22,100)"
   ]
  },
  {
   "cell_type": "code",
   "execution_count": 38,
   "id": "e586b055",
   "metadata": {},
   "outputs": [
    {
     "data": {
      "image/png": "[encoded data removed]",
      "text/plain": [
       "<Figure size 640x480 with 1 Axes>"
      ]
     },
     "metadata": {},
     "output_type": "display_data"
    }
   ],
   "source": [
    "plt.plot(myline,mymodel(myline))\n",
    "plt.show()"
   ]
  },
  {
   "cell_type": "markdown",
   "id": "537c6c68",
   "metadata": {},
   "source": [
    "#### R-Squared\n",
    "It is important to know how well the relationship between the values of the x- and y-axis is, if there are no\n",
    "relationship the polynomial regression can not be used to predict anything. The relationship is measured with\n",
    "a value called the r-squared. The r-squared value ranges from 0 to 1, where 0 means no relationship, and 1\n",
    "means 100% related. Python and the Sklearn module will compute this value for you, all you have to do is\n",
    "feed it with the x and y arrays:"
   ]
  },
  {
   "cell_type": "code",
   "execution_count": 40,
   "id": "3f16f339",
   "metadata": {},
   "outputs": [],
   "source": [
    "from sklearn.metrics import r2_score"
   ]
  },
  {
   "cell_type": "code",
   "execution_count": 41,
   "id": "66e45904",
   "metadata": {},
   "outputs": [
    {
     "data": {
      "text/plain": [
       "0.9432150416451027"
      ]
     },
     "execution_count": 41,
     "metadata": {},
     "output_type": "execute_result"
    }
   ],
   "source": [
    "r2_score(y,mymodel(x))"
   ]
  },
  {
   "cell_type": "code",
   "execution_count": 42,
   "id": "8d1ea010",
   "metadata": {},
   "outputs": [],
   "source": [
    "speed = mymodel(17)"
   ]
  },
  {
   "cell_type": "code",
   "execution_count": 43,
   "id": "4367aef9",
   "metadata": {},
   "outputs": [
    {
     "data": {
      "text/plain": [
       "88.87331269697987"
      ]
     },
     "execution_count": 43,
     "metadata": {},
     "output_type": "execute_result"
    }
   ],
   "source": [
    "speed"
   ]
  },
  {
   "cell_type": "markdown",
   "id": "9f6f3463",
   "metadata": {},
   "source": [
    "### Machine Learning - Multiple Regression\n",
    "#### Multiple Regression\n",
    "Multiple regression is like linear regression, but with more than one independent value, meaning that we try\n",
    "to predict a value based on two or more variables. Take a look at the data set below, it contains some\n",
    "information about cars."
   ]
  },
  {
   "cell_type": "code",
   "execution_count": 44,
   "id": "6e8e80de",
   "metadata": {},
   "outputs": [],
   "source": [
    "import pandas as pd"
   ]
  },
  {
   "cell_type": "code",
   "execution_count": 45,
   "id": "55b4dd9b",
   "metadata": {},
   "outputs": [
    {
     "data": {
      "text/html": [
       "<div>\n",
       "<style scoped>\n",
       "    .dataframe tbody tr th:only-of-type {\n",
       "        vertical-align: middle;\n",
       "    }\n",
       "\n",
       "    .dataframe tbody tr th {\n",
       "        vertical-align: top;\n",
       "    }\n",
       "\n",
       "    .dataframe thead th {\n",
       "        text-align: right;\n",
       "    }\n",
       "</style>\n",
       "<table border=\"1\" class=\"dataframe\">\n",
       "  <thead>\n",
       "    <tr style=\"text-align: right;\">\n",
       "      <th></th>\n",
       "      <th>Car</th>\n",
       "      <th>Model</th>\n",
       "      <th>Volume</th>\n",
       "      <th>Weight</th>\n",
       "      <th>CO2</th>\n",
       "    </tr>\n",
       "  </thead>\n",
       "  <tbody>\n",
       "    <tr>\n",
       "      <th>0</th>\n",
       "      <td>Toyota</td>\n",
       "      <td>Aygo</td>\n",
       "      <td>1000</td>\n",
       "      <td>790</td>\n",
       "      <td>99</td>\n",
       "    </tr>\n",
       "    <tr>\n",
       "      <th>1</th>\n",
       "      <td>Mitsubishi</td>\n",
       "      <td>Space Star</td>\n",
       "      <td>1200</td>\n",
       "      <td>1160</td>\n",
       "      <td>95</td>\n",
       "    </tr>\n",
       "    <tr>\n",
       "      <th>2</th>\n",
       "      <td>Skoda</td>\n",
       "      <td>Citigo</td>\n",
       "      <td>1000</td>\n",
       "      <td>929</td>\n",
       "      <td>95</td>\n",
       "    </tr>\n",
       "    <tr>\n",
       "      <th>3</th>\n",
       "      <td>Fiat</td>\n",
       "      <td>500</td>\n",
       "      <td>900</td>\n",
       "      <td>865</td>\n",
       "      <td>90</td>\n",
       "    </tr>\n",
       "    <tr>\n",
       "      <th>4</th>\n",
       "      <td>Mini</td>\n",
       "      <td>Cooper</td>\n",
       "      <td>1500</td>\n",
       "      <td>1140</td>\n",
       "      <td>105</td>\n",
       "    </tr>\n",
       "    <tr>\n",
       "      <th>5</th>\n",
       "      <td>VW</td>\n",
       "      <td>Up!</td>\n",
       "      <td>1000</td>\n",
       "      <td>929</td>\n",
       "      <td>105</td>\n",
       "    </tr>\n",
       "    <tr>\n",
       "      <th>6</th>\n",
       "      <td>Skoda</td>\n",
       "      <td>Fabia</td>\n",
       "      <td>1400</td>\n",
       "      <td>1109</td>\n",
       "      <td>90</td>\n",
       "    </tr>\n",
       "    <tr>\n",
       "      <th>7</th>\n",
       "      <td>Mercedes</td>\n",
       "      <td>A-Class</td>\n",
       "      <td>1500</td>\n",
       "      <td>1365</td>\n",
       "      <td>92</td>\n",
       "    </tr>\n",
       "    <tr>\n",
       "      <th>8</th>\n",
       "      <td>Ford</td>\n",
       "      <td>Fiesta</td>\n",
       "      <td>1500</td>\n",
       "      <td>1112</td>\n",
       "      <td>98</td>\n",
       "    </tr>\n",
       "    <tr>\n",
       "      <th>9</th>\n",
       "      <td>Audi</td>\n",
       "      <td>A1</td>\n",
       "      <td>1600</td>\n",
       "      <td>1150</td>\n",
       "      <td>99</td>\n",
       "    </tr>\n",
       "  </tbody>\n",
       "</table>\n",
       "</div>"
      ],
      "text/plain": [
       "          Car       Model  Volume  Weight  CO2\n",
       "0      Toyota        Aygo    1000     790   99\n",
       "1  Mitsubishi  Space Star    1200    1160   95\n",
       "2       Skoda      Citigo    1000     929   95\n",
       "3        Fiat         500     900     865   90\n",
       "4        Mini      Cooper    1500    1140  105\n",
       "5          VW         Up!    1000     929  105\n",
       "6       Skoda       Fabia    1400    1109   90\n",
       "7    Mercedes     A-Class    1500    1365   92\n",
       "8        Ford      Fiesta    1500    1112   98\n",
       "9        Audi          A1    1600    1150   99"
      ]
     },
     "execution_count": 45,
     "metadata": {},
     "output_type": "execute_result"
    }
   ],
   "source": [
    "data = pd.read_csv('./cars.csv')\n",
    "data.head(10)"
   ]
  },
  {
   "cell_type": "markdown",
   "id": "7c0161a0",
   "metadata": {},
   "source": [
    "##### Splitting the data into IV and DV"
   ]
  },
  {
   "cell_type": "code",
   "execution_count": 46,
   "id": "96b18144",
   "metadata": {},
   "outputs": [],
   "source": [
    "x = data.iloc[:,2:-1].values"
   ]
  },
  {
   "cell_type": "code",
   "execution_count": 47,
   "id": "b04c6c85",
   "metadata": {},
   "outputs": [],
   "source": [
    "y = data.iloc[:,-1].values"
   ]
  },
  {
   "cell_type": "code",
   "execution_count": 48,
   "id": "91d9cb02",
   "metadata": {},
   "outputs": [
    {
     "data": {
      "text/plain": [
       "array([[1000,  790],\n",
       "       [1200, 1160],\n",
       "       [1000,  929],\n",
       "       [ 900,  865],\n",
       "       [1500, 1140],\n",
       "       [1000,  929],\n",
       "       [1400, 1109],\n",
       "       [1500, 1365],\n",
       "       [1500, 1112],\n",
       "       [1600, 1150],\n",
       "       [1100,  980],\n",
       "       [1300,  990],\n",
       "       [1000, 1112],\n",
       "       [1600, 1252],\n",
       "       [1600, 1326],\n",
       "       [1600, 1330],\n",
       "       [1600, 1365],\n",
       "       [2200, 1280],\n",
       "       [1600, 1119],\n",
       "       [2000, 1328],\n",
       "       [1600, 1584],\n",
       "       [2000, 1428],\n",
       "       [2100, 1365],\n",
       "       [1600, 1415],\n",
       "       [2000, 1415],\n",
       "       [1500, 1465],\n",
       "       [2000, 1490],\n",
       "       [2000, 1725],\n",
       "       [1600, 1523],\n",
       "       [2000, 1705],\n",
       "       [2100, 1605],\n",
       "       [2000, 1746],\n",
       "       [1600, 1235],\n",
       "       [1600, 1390],\n",
       "       [1600, 1405],\n",
       "       [2500, 1395]], dtype=int64)"
      ]
     },
     "execution_count": 48,
     "metadata": {},
     "output_type": "execute_result"
    }
   ],
   "source": [
    "x"
   ]
  },
  {
   "cell_type": "code",
   "execution_count": 49,
   "id": "1f7704af",
   "metadata": {},
   "outputs": [
    {
     "data": {
      "text/plain": [
       "array([ 99,  95,  95,  90, 105, 105,  90,  92,  98,  99,  99, 101,  99,\n",
       "        94,  97,  97,  99, 104, 104, 105,  94,  99,  99,  99,  99, 102,\n",
       "       104, 114, 109, 114, 115, 117, 104, 108, 109, 120], dtype=int64)"
      ]
     },
     "execution_count": 49,
     "metadata": {},
     "output_type": "execute_result"
    }
   ],
   "source": [
    "y"
   ]
  },
  {
   "cell_type": "markdown",
   "id": "cfb2a5d4",
   "metadata": {},
   "source": [
    "#### MLR using statsmodels\n",
    "\n",
    "##### pip install statsmodels\n",
    "\n",
    "##### statsmodels.api"
   ]
  },
  {
   "cell_type": "code",
   "execution_count": 51,
   "id": "b4d7b68e",
   "metadata": {},
   "outputs": [],
   "source": [
    "import statsmodels.api as sm"
   ]
  },
  {
   "cell_type": "code",
   "execution_count": null,
   "id": "9df8c430",
   "metadata": {},
   "outputs": [],
   "source": []
  }
 ],
 "metadata": {
  "kernelspec": {
   "display_name": "Python 3 (ipykernel)",
   "language": "python",
   "name": "python3"
  },
  "language_info": {
   "codemirror_mode": {
    "name": "ipython",
    "version": 3
   },
   "file_extension": ".py",
   "mimetype": "text/x-python",
   "name": "python",
   "nbconvert_exporter": "python",
   "pygments_lexer": "ipython3",
   "version": "3.9.13"
  }
 },
 "nbformat": 4,
 "nbformat_minor": 5
}
